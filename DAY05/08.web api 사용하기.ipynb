{
 "cells": [
  {
   "cell_type": "markdown",
   "metadata": {},
   "source": [
    "## OpenWeatherMap\n",
    "url : http://openweathermap.org\n",
    "기본적으로 유료이지만 현재날씨와 5일까지의 날씨는 무료로 제공 \n",
    "\n",
    "### 개발자 등록하고 API Key 발급받기  (https://home.openweathermap.org/api_keys : urimday 계정사용함 )\n",
    "url : https//home.openweathermap.org/users/sign_up\n",
    "\n",
    "API Key : 41d3b43c917eba35aad2951c7c2a8019 (urimday)\n",
    "          6448e9ef92cb2b17a640e01e7c4d8a39 (default)\n",
    "\n",
    "--- \n",
    "서울, 도쿄, 북경, 뉴욕의 날씨 출력하기\n"
   ]
  },
  {
   "cell_type": "code",
   "execution_count": 1,
   "metadata": {},
   "outputs": [],
   "source": [
    "import requests  # OpenWeather 요청시\n",
    "import json      # 요청한 자료 받을 시 \n"
   ]
  },
  {
   "cell_type": "code",
   "execution_count": 10,
   "metadata": {},
   "outputs": [],
   "source": [
    "apikey = \"6448e9ef92cb2b17a640e01e7c4d8a39\""
   ]
  },
  {
   "cell_type": "code",
   "execution_count": 32,
   "metadata": {},
   "outputs": [],
   "source": [
    "# 날씨을 확인할 도시 지정하기 \n",
    "cities = ['Seoul,KR', 'Tokyo,JP', 'New York,US', 'Beijing,CN']\n",
    "\n",
    "# API  지정 \n",
    "api = \"https://api.openweathermap.org/data/2.5/weather?q={city}&APPID={key}\"\n",
    "\n",
    "# 켈빈오도를 섭씨온도로 변환 \n",
    "k2c = lambda k: k-273.15"
   ]
  },
  {
   "cell_type": "markdown",
   "metadata": {},
   "source": [
    "## TEST \n",
    ": 서울로 테스트"
   ]
  },
  {
   "cell_type": "code",
   "execution_count": 26,
   "metadata": {},
   "outputs": [
    {
     "name": "stdout",
     "output_type": "stream",
     "text": [
      "Seoul\n",
      "clear sky\n",
      "20.689999999999998\n",
      "24.660000000000025\n"
     ]
    }
   ],
   "source": [
    "url = api.format(city=cities[0], key=apikey)\n",
    "r = requests.get(url)\n",
    "data = json.loads(r.text)\n",
    "\n",
    "# data\n",
    "\n",
    "print(data['name'])\n",
    "print(data['weather'][0]['description'])\n",
    "print(k2c(data['main']['temp_min']))\n",
    "print(k2c(data['main']['temp_max']))\n",
    "\n"
   ]
  },
  {
   "cell_type": "code",
   "execution_count": 34,
   "metadata": {},
   "outputs": [
    {
     "name": "stdout",
     "output_type": "stream",
     "text": [
      "+ 도시 = Seoul\n",
      "| 날씨 = clear sky\n",
      "| 최저 기온 =  20.689999999999998\n",
      "| 최고 기온 =  23.660000000000025\n",
      "| 습도 = 78\n",
      "| 기압 = 1005\n",
      "| 풍향 = 230\n",
      "| 풍속 = 3.09\n",
      "\n",
      "+ 도시 = Tokyo\n",
      "| 날씨 = clear sky\n",
      "| 최저 기온 =  25.370000000000005\n",
      "| 최고 기온 =  29.879999999999995\n",
      "| 습도 = 76\n",
      "| 기압 = 1001\n",
      "| 풍향 = 180\n",
      "| 풍속 = 8.23\n",
      "\n",
      "+ 도시 = New York\n",
      "| 날씨 = few clouds\n",
      "| 최저 기온 =  22.760000000000048\n",
      "| 최고 기온 =  25.970000000000027\n",
      "| 습도 = 65\n",
      "| 기압 = 1002\n",
      "| 풍향 = 297\n",
      "| 풍속 = 10.28\n",
      "\n",
      "+ 도시 = Beijing\n",
      "| 날씨 = scattered clouds\n",
      "| 최저 기온 =  30.939999999999998\n",
      "| 최고 기온 =  30.939999999999998\n",
      "| 습도 = 19\n",
      "| 기압 = 1006\n",
      "| 풍향 = 336\n",
      "| 풍속 = 2.58\n",
      "\n"
     ]
    }
   ],
   "source": [
    "# 각 도시의 정보 추출하기 \n",
    "for name in cities:\n",
    "  # api 의  URL 구성하기 \n",
    "  url = api.format(city=name, key=apikey)\n",
    "  # api에 요청한 데이타 불러오기 \n",
    "  r = requests.get(url)\n",
    "  # 결과를 Json  형식으로 불러오기 \n",
    "  data = json.loads(r.text)\n",
    "  #  결과 출력하기 \n",
    "  print(\"+ 도시 =\",  data['name'])\n",
    "  print(\"| 날씨 =\", data['weather'][0]['description'])\n",
    "  print(\"| 최저 기온 = \", k2c(data['main']['temp_min']))\n",
    "  print(\"| 최고 기온 = \", k2c(data['main']['temp_max']))\n",
    "  print(\"| 습도 =\",   data['main']['humidity'])\n",
    "  print(\"| 기압 =\",   data['main']['pressure'])\n",
    "  print(\"| 풍향 =\",   data['wind']['deg'])\n",
    "  print(\"| 풍속 =\",   data['wind']['speed'])\n",
    "  print(\"\")\n",
    "  \n",
    "  \n"
   ]
  },
  {
   "cell_type": "code",
   "execution_count": null,
   "metadata": {},
   "outputs": [],
   "source": []
  }
 ],
 "metadata": {
  "kernelspec": {
   "display_name": "base",
   "language": "python",
   "name": "python3"
  },
  "language_info": {
   "codemirror_mode": {
    "name": "ipython",
    "version": 3
   },
   "file_extension": ".py",
   "mimetype": "text/x-python",
   "name": "python",
   "nbconvert_exporter": "python",
   "pygments_lexer": "ipython3",
   "version": "3.11.7"
  }
 },
 "nbformat": 4,
 "nbformat_minor": 2
}
