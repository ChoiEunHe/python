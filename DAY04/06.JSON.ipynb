{
 "cells": [
  {
   "cell_type": "markdown",
   "metadata": {},
   "source": [
    "# JSON"
   ]
  },
  {
   "cell_type": "code",
   "execution_count": 6,
   "metadata": {},
   "outputs": [],
   "source": [
    "import urllib.request as req\n",
    "from bs4 import BeautifulSoup\n",
    "import json\n"
   ]
  },
  {
   "cell_type": "code",
   "execution_count": 4,
   "metadata": {},
   "outputs": [],
   "source": [
    "url = \"https://zeushahn.github.io/Test/student.json\"\n",
    "res = req.urlopen(url)\n"
   ]
  },
  {
   "cell_type": "code",
   "execution_count": 7,
   "metadata": {},
   "outputs": [
    {
     "name": "stdout",
     "output_type": "stream",
     "text": [
      "{\"results\":\n",
      "    [\n",
      "        {\n",
      "            \"code\":\"S001\",\n",
      "            \"phone\":\"123-4567\",\n",
      "            \"name\":\"박소명\",\n",
      "            \"dept\":\"컴퓨터공학과\"\n",
      "        },\n",
      "        {\n",
      "            \"code\":\"S002\",\n",
      "            \"phone\":\"234-5678\",\n",
      "            \"name\":\"최민국\",\n",
      "            \"dept\":\"컴퓨터공학과\"\n",
      "        },\n",
      "        {\n",
      "            \"code\":\"S003\",\n",
      "            \"phone\":\"345-6789\",\n",
      "            \"name\":\"이승호\",\n",
      "            \"dept\":\"국문학과\"\n",
      "        },\n",
      "        {\n",
      "            \"code\":\"S004\",\n",
      "            \"phone\":\"456-7890\",\n",
      "            \"name\":\"정수봉\",\n",
      "            \"dept\":\"국문학과\"\n",
      "        },\n",
      "        {\n",
      "            \"code\":\"S005\",\n",
      "            \"phone\":\"567-8901\",\n",
      "            \"name\":\"김상진\",\n",
      "            \"dept\":\"사학과\"\n",
      "        },\n",
      "        {\n",
      "            \"code\":\"S006\",\n",
      "            \"phone\":\"678-9012\",\n",
      "            \"name\":\"황정숙\",\n",
      "            \"dept\":\"사학과\"\n",
      "        }\n",
      "    ]\n",
      "}\n"
     ]
    }
   ],
   "source": [
    "soup = BeautifulSoup(res, 'html.parser')\n",
    "print(soup)\n"
   ]
  },
  {
   "cell_type": "code",
   "execution_count": 8,
   "metadata": {},
   "outputs": [
    {
     "name": "stdout",
     "output_type": "stream",
     "text": [
      "{'results': [{'code': 'S001', 'phone': '123-4567', 'name': '박소명', 'dept': '컴퓨터공학과'}, {'code': 'S002', 'phone': '234-5678', 'name': '최민국', 'dept': '컴퓨터공학과'}, {'code': 'S003', 'phone': '345-6789', 'name': '이승호', 'dept': '국문학과'}, {'code': 'S004', 'phone': '456-7890', 'name': '정수봉', 'dept': '국문학과'}, {'code': 'S005', 'phone': '567-8901', 'name': '김상진', 'dept': '사학과'}, {'code': 'S006', 'phone': '678-9012', 'name': '황정숙', 'dept': '사학과'}]}\n"
     ]
    }
   ],
   "source": [
    "# soup 으로  json 형태 변경하기 \n",
    "items = json.loads(str(soup))\n",
    "print(items)"
   ]
  },
  {
   "cell_type": "code",
   "execution_count": 9,
   "metadata": {},
   "outputs": [
    {
     "name": "stdout",
     "output_type": "stream",
     "text": [
      "[{'code': 'S001', 'phone': '123-4567', 'name': '박소명', 'dept': '컴퓨터공학과'}, {'code': 'S002', 'phone': '234-5678', 'name': '최민국', 'dept': '컴퓨터공학과'}, {'code': 'S003', 'phone': '345-6789', 'name': '이승호', 'dept': '국문학과'}, {'code': 'S004', 'phone': '456-7890', 'name': '정수봉', 'dept': '국문학과'}, {'code': 'S005', 'phone': '567-8901', 'name': '김상진', 'dept': '사학과'}, {'code': 'S006', 'phone': '678-9012', 'name': '황정숙', 'dept': '사학과'}]\n"
     ]
    }
   ],
   "source": [
    "# List 형태로 발췌 \n",
    "item2 = items['results']\n",
    "print(item2)"
   ]
  },
  {
   "cell_type": "code",
   "execution_count": 24,
   "metadata": {},
   "outputs": [
    {
     "name": "stdout",
     "output_type": "stream",
     "text": [
      "학번\t 전화번호\t 이름\t 전공\t\n",
      "----\t -------\t ----\t -----------\t\n",
      "S001 \t 123-4567 \t 박소명 \t 컴퓨터공학과\n",
      "S002 \t 234-5678 \t 최민국 \t 컴퓨터공학과\n",
      "S003 \t 345-6789 \t 이승호 \t 국문학과\n",
      "S004 \t 456-7890 \t 정수봉 \t 국문학과\n",
      "S005 \t 567-8901 \t 김상진 \t 사학과\n",
      "S006 \t 678-9012 \t 황정숙 \t 사학과\n"
     ]
    }
   ],
   "source": [
    "print('학번\\t','전화번호\\t','이름\\t','전공\\t')\n",
    "print('----\\t','-------\\t','----\\t','-----------\\t')\n",
    "for item in item2:\n",
    "  print(item['code'], '\\t', item['phone'], '\\t', item['name'],  '\\t',item['dept'])"
   ]
  },
  {
   "cell_type": "code",
   "execution_count": null,
   "metadata": {},
   "outputs": [],
   "source": []
  }
 ],
 "metadata": {
  "kernelspec": {
   "display_name": "base",
   "language": "python",
   "name": "python3"
  },
  "language_info": {
   "codemirror_mode": {
    "name": "ipython",
    "version": 3
   },
   "file_extension": ".py",
   "mimetype": "text/x-python",
   "name": "python",
   "nbconvert_exporter": "python",
   "pygments_lexer": "ipython3",
   "version": "3.11.7"
  }
 },
 "nbformat": 4,
 "nbformat_minor": 2
}
