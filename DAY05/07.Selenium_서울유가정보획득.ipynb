{
 "cells": [
  {
   "cell_type": "markdown",
   "metadata": {},
   "source": [
    "###  서울시 구별 주유소 유가 정보 획득 \n",
    "- http://www.opinet.co.kr/searRgSelect.do\n"
   ]
  },
  {
   "cell_type": "code",
   "execution_count": 1,
   "metadata": {},
   "outputs": [
    {
     "name": "stdout",
     "output_type": "stream",
     "text": [
      "Collecting selenium\n",
      "  Downloading selenium-4.21.0-py3-none-any.whl.metadata (6.9 kB)\n",
      "Requirement already satisfied: urllib3<3,>=1.26 in c:\\users\\kdt\\anaconda3\\lib\\site-packages (from urllib3[socks]<3,>=1.26->selenium) (2.0.7)\n",
      "Collecting trio~=0.17 (from selenium)\n",
      "  Downloading trio-0.25.1-py3-none-any.whl.metadata (8.7 kB)\n",
      "Collecting trio-websocket~=0.9 (from selenium)\n",
      "  Downloading trio_websocket-0.11.1-py3-none-any.whl.metadata (4.7 kB)\n",
      "Requirement already satisfied: certifi>=2021.10.8 in c:\\users\\kdt\\anaconda3\\lib\\site-packages (from selenium) (2024.2.2)\n",
      "Requirement already satisfied: typing_extensions>=4.9.0 in c:\\users\\kdt\\anaconda3\\lib\\site-packages (from selenium) (4.9.0)\n",
      "Collecting attrs>=23.2.0 (from trio~=0.17->selenium)\n",
      "  Downloading attrs-23.2.0-py3-none-any.whl.metadata (9.5 kB)\n",
      "Requirement already satisfied: sortedcontainers in c:\\users\\kdt\\anaconda3\\lib\\site-packages (from trio~=0.17->selenium) (2.4.0)\n",
      "Requirement already satisfied: idna in c:\\users\\kdt\\anaconda3\\lib\\site-packages (from trio~=0.17->selenium) (3.4)\n",
      "Collecting outcome (from trio~=0.17->selenium)\n",
      "  Downloading outcome-1.3.0.post0-py2.py3-none-any.whl.metadata (2.6 kB)\n",
      "Requirement already satisfied: sniffio>=1.3.0 in c:\\users\\kdt\\anaconda3\\lib\\site-packages (from trio~=0.17->selenium) (1.3.0)\n",
      "Requirement already satisfied: cffi>=1.14 in c:\\users\\kdt\\anaconda3\\lib\\site-packages (from trio~=0.17->selenium) (1.16.0)\n",
      "Collecting wsproto>=0.14 (from trio-websocket~=0.9->selenium)\n",
      "  Downloading wsproto-1.2.0-py3-none-any.whl.metadata (5.6 kB)\n",
      "Requirement already satisfied: pysocks!=1.5.7,<2.0,>=1.5.6 in c:\\users\\kdt\\anaconda3\\lib\\site-packages (from urllib3[socks]<3,>=1.26->selenium) (1.7.1)\n",
      "Requirement already satisfied: pycparser in c:\\users\\kdt\\anaconda3\\lib\\site-packages (from cffi>=1.14->trio~=0.17->selenium) (2.21)\n",
      "Collecting h11<1,>=0.9.0 (from wsproto>=0.14->trio-websocket~=0.9->selenium)\n",
      "  Downloading h11-0.14.0-py3-none-any.whl.metadata (8.2 kB)\n",
      "Downloading selenium-4.21.0-py3-none-any.whl (9.5 MB)\n",
      "   ---------------------------------------- 0.0/9.5 MB ? eta -:--:--\n",
      "   ----- ---------------------------------- 1.3/9.5 MB 27.9 MB/s eta 0:00:01\n",
      "   ------------ --------------------------- 2.9/9.5 MB 31.3 MB/s eta 0:00:01\n",
      "   ---------------------- ----------------- 5.4/9.5 MB 38.3 MB/s eta 0:00:01\n",
      "   --------------------------------- ------ 7.9/9.5 MB 41.9 MB/s eta 0:00:01\n",
      "   ---------------------------------------  9.5/9.5 MB 40.2 MB/s eta 0:00:01\n",
      "   ---------------------------------------  9.5/9.5 MB 40.2 MB/s eta 0:00:01\n",
      "   ---------------------------------------  9.5/9.5 MB 40.2 MB/s eta 0:00:01\n",
      "   ---------------------------------------  9.5/9.5 MB 40.2 MB/s eta 0:00:01\n",
      "   ---------------------------------------  9.5/9.5 MB 40.2 MB/s eta 0:00:01\n",
      "   ---------------------------------------  9.5/9.5 MB 40.2 MB/s eta 0:00:01\n",
      "   ---------------------------------------  9.5/9.5 MB 40.2 MB/s eta 0:00:01\n",
      "   ---------------------------------------  9.5/9.5 MB 40.2 MB/s eta 0:00:01\n",
      "   ---------------------------------------  9.5/9.5 MB 40.2 MB/s eta 0:00:01\n",
      "   ---------------------------------------  9.5/9.5 MB 40.2 MB/s eta 0:00:01\n",
      "   ---------------------------------------  9.5/9.5 MB 40.2 MB/s eta 0:00:01\n",
      "   ---------------------------------------  9.5/9.5 MB 40.2 MB/s eta 0:00:01\n",
      "   ---------------------------------------  9.5/9.5 MB 40.2 MB/s eta 0:00:01\n",
      "   ---------------------------------------  9.5/9.5 MB 40.2 MB/s eta 0:00:01\n",
      "   ---------------------------------------  9.5/9.5 MB 40.2 MB/s eta 0:00:01\n",
      "   ---------------------------------------- 9.5/9.5 MB 10.4 MB/s eta 0:00:00\n",
      "Downloading trio-0.25.1-py3-none-any.whl (467 kB)\n",
      "   ---------------------------------------- 0.0/467.7 kB ? eta -:--:--\n",
      "   --------------------------------------  460.8/467.7 kB 28.2 MB/s eta 0:00:01\n",
      "   --------------------------------------  460.8/467.7 kB 28.2 MB/s eta 0:00:01\n",
      "   --------------------------------------  460.8/467.7 kB 28.2 MB/s eta 0:00:01\n",
      "   ---------------------------------------- 467.7/467.7 kB 3.2 MB/s eta 0:00:00\n",
      "Downloading trio_websocket-0.11.1-py3-none-any.whl (17 kB)\n",
      "Downloading attrs-23.2.0-py3-none-any.whl (60 kB)\n",
      "   ---------------------------------------- 0.0/60.8 kB ? eta -:--:--\n",
      "   --------------------------------- ------ 51.2/60.8 kB ? eta -:--:--\n",
      "   ---------------------------------------- 60.8/60.8 kB 537.4 kB/s eta 0:00:00\n",
      "Downloading wsproto-1.2.0-py3-none-any.whl (24 kB)\n",
      "Downloading outcome-1.3.0.post0-py2.py3-none-any.whl (10 kB)\n",
      "Downloading h11-0.14.0-py3-none-any.whl (58 kB)\n",
      "   ---------------------------------------- 0.0/58.3 kB ? eta -:--:--\n",
      "   ----------------------------------- ---- 51.2/58.3 kB ? eta -:--:--\n",
      "   ---------------------------------------- 58.3/58.3 kB 1.0 MB/s eta 0:00:00\n",
      "Installing collected packages: h11, attrs, wsproto, outcome, trio, trio-websocket, selenium\n",
      "  Attempting uninstall: attrs\n",
      "    Found existing installation: attrs 23.1.0\n",
      "    Uninstalling attrs-23.1.0:\n",
      "      Successfully uninstalled attrs-23.1.0\n",
      "Successfully installed attrs-23.2.0 h11-0.14.0 outcome-1.3.0.post0 selenium-4.21.0 trio-0.25.1 trio-websocket-0.11.1 wsproto-1.2.0\n"
     ]
    }
   ],
   "source": [
    "# Package 설치 \n",
    "# !pip install selenium (재설치 방지)\n"
   ]
  },
  {
   "cell_type": "code",
   "execution_count": 3,
   "metadata": {},
   "outputs": [
    {
     "name": "stdout",
     "output_type": "stream",
     "text": [
      "Collecting webdriver-manager\n",
      "  Downloading webdriver_manager-4.0.1-py2.py3-none-any.whl.metadata (12 kB)\n",
      "Requirement already satisfied: requests in c:\\users\\kdt\\anaconda3\\lib\\site-packages (from webdriver-manager) (2.31.0)\n",
      "Requirement already satisfied: python-dotenv in c:\\users\\kdt\\anaconda3\\lib\\site-packages (from webdriver-manager) (0.21.0)\n",
      "Requirement already satisfied: packaging in c:\\users\\kdt\\anaconda3\\lib\\site-packages (from webdriver-manager) (23.1)\n",
      "Requirement already satisfied: charset-normalizer<4,>=2 in c:\\users\\kdt\\anaconda3\\lib\\site-packages (from requests->webdriver-manager) (2.0.4)\n",
      "Requirement already satisfied: idna<4,>=2.5 in c:\\users\\kdt\\anaconda3\\lib\\site-packages (from requests->webdriver-manager) (3.4)\n",
      "Requirement already satisfied: urllib3<3,>=1.21.1 in c:\\users\\kdt\\anaconda3\\lib\\site-packages (from requests->webdriver-manager) (2.0.7)\n",
      "Requirement already satisfied: certifi>=2017.4.17 in c:\\users\\kdt\\anaconda3\\lib\\site-packages (from requests->webdriver-manager) (2024.2.2)\n",
      "Downloading webdriver_manager-4.0.1-py2.py3-none-any.whl (27 kB)\n",
      "Installing collected packages: webdriver-manager\n",
      "Successfully installed webdriver-manager-4.0.1\n"
     ]
    }
   ],
   "source": [
    "# !pip install webdriver-manager (재설치 방지)"
   ]
  },
  {
   "cell_type": "code",
   "execution_count": 1,
   "metadata": {},
   "outputs": [],
   "source": [
    "from selenium import webdriver   # 크롬을 제어하기 위해 필요 : 주로  xpath 를 사용  : WebPage를 컨트롤 한다.\n",
    "from selenium.webdriver.chrome.service import Service\n",
    "from webdriver_manager.chrome import ChromeDriverManager\n",
    "from selenium.webdriver.common.by import By\n"
   ]
  },
  {
   "cell_type": "code",
   "execution_count": 2,
   "metadata": {},
   "outputs": [],
   "source": [
    "# Chrome Browser 와  Chrom Driver  dusruf \n",
    "chrome_options = webdriver.ChromeOptions()\n",
    "driver = webdriver.Chrome(\n",
    "  service=Service(ChromeDriverManager().install()),\n",
    "  options=chrome_options\n",
    ")\n",
    "driver.get(\"http://www.opinet.co.kr/searRgSelect.do\")"
   ]
  },
  {
   "cell_type": "code",
   "execution_count": 6,
   "metadata": {},
   "outputs": [
    {
     "data": {
      "text/plain": [
       "False"
      ]
     },
     "execution_count": 6,
     "metadata": {},
     "output_type": "execute_result"
    }
   ],
   "source": [
    "# 현재 화면 capther 하기 \n",
    "# driver.save_screenshot('./Data/001.png')"
   ]
  },
  {
   "cell_type": "markdown",
   "metadata": {},
   "source": [
    "### 서울시 유가 정보 획득을 위한 Test"
   ]
  },
  {
   "cell_type": "code",
   "execution_count": 3,
   "metadata": {},
   "outputs": [
    {
     "data": {
      "text/plain": [
       "['강남구',\n",
       " '강동구',\n",
       " '강북구',\n",
       " '강서구',\n",
       " '관악구',\n",
       " '광진구',\n",
       " '구로구',\n",
       " '금천구',\n",
       " '노원구',\n",
       " '도봉구',\n",
       " '동대문구',\n",
       " '동작구',\n",
       " '마포구',\n",
       " '서대문구',\n",
       " '서초구',\n",
       " '성동구',\n",
       " '성북구',\n",
       " '송파구',\n",
       " '양천구',\n",
       " '영등포구',\n",
       " '용산구',\n",
       " '은평구',\n",
       " '종로구',\n",
       " '중구',\n",
       " '중랑구']"
      ]
     },
     "execution_count": 3,
     "metadata": {},
     "output_type": "execute_result"
    }
   ],
   "source": [
    "# 자치구명 정보 가져왹 \n",
    "\n",
    "gu_list_raw = driver.find_element(By.XPATH, '//*[@id=\"SIGUNGU_NM0\"]')\n",
    "gu_list = gu_list_raw.find_elements(By.TAG_NAME, 'option')\n",
    "\n",
    "#print(gu_list)\n",
    "gu_names = [option.get_attribute('value') for option in gu_list]\n",
    "gu_names.remove('')\n",
    "\n",
    "gu_names"
   ]
  },
  {
   "cell_type": "code",
   "execution_count": 7,
   "metadata": {},
   "outputs": [],
   "source": [
    "#  조회버튼  : //*[@id=\"searRgSelect\"]/span\n",
    "xpath = '//*[@id=\"searRgSelect\"]/span'\n",
    "element_sel_gu = driver.find_element(By.XPATH, xpath).click()\n",
    "\n"
   ]
  },
  {
   "cell_type": "code",
   "execution_count": 8,
   "metadata": {},
   "outputs": [],
   "source": [
    "# 자치구 이름으로 1번 자치구를 실행 \n",
    "element = driver.find_element(By.ID, 'SIGUNGU_NM0')\n",
    "element.send_keys(gu_names[0])\n",
    "\n",
    "#  조회버튼  : //*[@id=\"searRgSelect\"]/span\n",
    "xpath = '//*[@id=\"searRgSelect\"]/span'\n",
    "element_sel_gu = driver.find_element(By.XPATH, xpath).click()"
   ]
  },
  {
   "cell_type": "code",
   "execution_count": 9,
   "metadata": {},
   "outputs": [],
   "source": [
    "# 엑셀저장 버튼 : //*[@id=\"templ_list0\"]/div[7]/div/a/span\n",
    "xpath = '//*[@id=\"templ_list0\"]/div[7]/div/a/span'\n",
    "element_get_excel = driver.find_element(By.XPATH, xpath).click()"
   ]
  },
  {
   "cell_type": "markdown",
   "metadata": {},
   "source": [
    "##  데이터 수집"
   ]
  },
  {
   "cell_type": "code",
   "execution_count": 18,
   "metadata": {},
   "outputs": [],
   "source": [
    "# 화면에 지도그림을 그리는 시간이 필요하므로 이를 delay  시키도록 한다.\n",
    "import time\n",
    "\n",
    "# for i in range(10):\n",
    "#   print(i)\n",
    "#   time.sleep(1)\n",
    "\n",
    "for gu in gu_names:\n",
    "  # 구 선택 \n",
    "  element = driver.find_element(By.ID, 'SIGUNGU_NM0')\n",
    "  element.send_keys(gu)\n",
    "  \n",
    "  time.sleep(2)\n",
    "\n",
    "  # 조회버튼  : //*[@id=\"searRgSelect\"]/span\n",
    "  xpath = '//*[@id=\"searRgSelect\"]/span'\n",
    "  element_sel_gu = driver.find_element(By.XPATH, xpath).click()\n",
    "\n",
    "  time.sleep(5)\n",
    "\n",
    "  # 엑셀저장 버튼 : //*[@id=\"templ_list0\"]/div[7]/div/a/span\n",
    "  xpath = '//*[@id=\"templ_list0\"]/div[7]/div/a/span'\n",
    "  element_get_excel = driver.find_element(By.XPATH, xpath).click()\n",
    "\n",
    "  time.sleep(2)\n",
    "\n",
    "  \n",
    "\n"
   ]
  },
  {
   "cell_type": "code",
   "execution_count": null,
   "metadata": {},
   "outputs": [],
   "source": []
  }
 ],
 "metadata": {
  "kernelspec": {
   "display_name": "base",
   "language": "python",
   "name": "python3"
  },
  "language_info": {
   "codemirror_mode": {
    "name": "ipython",
    "version": 3
   },
   "file_extension": ".py",
   "mimetype": "text/x-python",
   "name": "python",
   "nbconvert_exporter": "python",
   "pygments_lexer": "ipython3",
   "version": "3.11.7"
  }
 },
 "nbformat": 4,
 "nbformat_minor": 2
}
