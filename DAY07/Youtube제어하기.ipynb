{
 "cells": [
  {
   "cell_type": "markdown",
   "metadata": {},
   "source": [
    "#### 파이썬에서 YouTube 영상을 제어하려면 pytube와 같은 라이브러리를 사용할 수 있습니다. \n",
    "#### pytube를 사용하면 YouTube 영상을 다운로드하거나 스트리밍 URL을 가져올 수 있습니다. \n",
    "#### 그러나 pytube 자체로는 영상을 재생하거나 제어하는 기능이 없기 때문에 다른 라이브러리나 도구와 함께 사용해야 합니다.\n",
    "\n",
    "- pytube 설치 및 사용: YouTube 영상 다운로드\n",
    "- OpenCV 및 VLC 사용: 영상 재생 및 제어"
   ]
  },
  {
   "cell_type": "code",
   "execution_count": 1,
   "metadata": {},
   "outputs": [],
   "source": [
    "# 먼저 pytube 라이브러리를 설치합니다.\n",
    "# !pip install pytube"
   ]
  },
  {
   "cell_type": "code",
   "execution_count": 3,
   "metadata": {},
   "outputs": [
    {
     "name": "stdout",
     "output_type": "stream",
     "text": [
      "영상 다운로드 완료\n"
     ]
    }
   ],
   "source": [
    "from pytube import YouTube\n",
    "\n",
    "# YouTube 영상 URL\n",
    "url = 'https://www.youtube.com/watch?v=7ue8RLaRJQM'\n",
    "\n",
    "# YouTube 객체 생성\n",
    "yt = YouTube(url)\n",
    "\n",
    "# 첫 번째 스트림 선택 (예: 720p)\n",
    "stream = yt.streams.filter(progressive=True, file_extension='mp4').first()\n",
    "\n",
    "# 영상 다운로드\n",
    "stream.download(output_path='./Data', filename='english_level.mp4')\n",
    "\n",
    "print('영상 다운로드 완료')"
   ]
  },
  {
   "cell_type": "code",
   "execution_count": 4,
   "metadata": {},
   "outputs": [
    {
     "name": "stdout",
     "output_type": "stream",
     "text": [
      "Collecting opencv-python\n",
      "  Downloading opencv_python-4.10.0.84-cp37-abi3-win_amd64.whl.metadata (20 kB)\n",
      "Requirement already satisfied: numpy>=1.21.2 in c:\\users\\kdt\\anaconda3\\lib\\site-packages (from opencv-python) (1.26.4)\n",
      "Downloading opencv_python-4.10.0.84-cp37-abi3-win_amd64.whl (38.8 MB)\n",
      "   ---------------------------------------- 0.0/38.8 MB ? eta -:--:--\n",
      "   ---------------------------------------- 0.0/38.8 MB ? eta -:--:--\n",
      "   ---------------------------------------- 0.0/38.8 MB 330.3 kB/s eta 0:01:58\n",
      "   ---------------------------------------- 0.1/38.8 MB 731.4 kB/s eta 0:00:53\n",
      "   -- ------------------------------------- 2.0/38.8 MB 10.5 MB/s eta 0:00:04\n",
      "   ---- ----------------------------------- 4.1/38.8 MB 17.6 MB/s eta 0:00:02\n",
      "   ------ --------------------------------- 6.1/38.8 MB 21.7 MB/s eta 0:00:02\n",
      "   -------- ------------------------------- 7.8/38.8 MB 25.0 MB/s eta 0:00:02\n",
      "   --------- ------------------------------ 9.1/38.8 MB 24.2 MB/s eta 0:00:02\n",
      "   ---------- ----------------------------- 9.7/38.8 MB 23.1 MB/s eta 0:00:02\n",
      "   ---------- ----------------------------- 10.0/38.8 MB 21.4 MB/s eta 0:00:02\n",
      "   ---------- ----------------------------- 10.3/38.8 MB 27.3 MB/s eta 0:00:02\n",
      "   ---------- ----------------------------- 10.6/38.8 MB 26.2 MB/s eta 0:00:02\n",
      "   ----------- ---------------------------- 11.0/38.8 MB 23.4 MB/s eta 0:00:02\n",
      "   ----------- ---------------------------- 11.3/38.8 MB 21.1 MB/s eta 0:00:02\n",
      "   ------------ --------------------------- 11.7/38.8 MB 19.9 MB/s eta 0:00:02\n",
      "   ------------ --------------------------- 12.0/38.8 MB 18.2 MB/s eta 0:00:02\n",
      "   ------------ --------------------------- 12.5/38.8 MB 17.2 MB/s eta 0:00:02\n",
      "   ------------- -------------------------- 13.0/38.8 MB 16.4 MB/s eta 0:00:02\n",
      "   ------------- -------------------------- 13.4/38.8 MB 15.2 MB/s eta 0:00:02\n",
      "   -------------- ------------------------- 13.6/38.8 MB 14.5 MB/s eta 0:00:02\n",
      "   -------------- ------------------------- 13.8/38.8 MB 13.6 MB/s eta 0:00:02\n",
      "   -------------- ------------------------- 14.2/38.8 MB 12.8 MB/s eta 0:00:02\n",
      "   --------------- ------------------------ 14.7/38.8 MB 12.4 MB/s eta 0:00:02\n",
      "   --------------- ------------------------ 15.2/38.8 MB 11.9 MB/s eta 0:00:02\n",
      "   ---------------- ----------------------- 15.7/38.8 MB 11.3 MB/s eta 0:00:03\n",
      "   ---------------- ----------------------- 16.1/38.8 MB 10.9 MB/s eta 0:00:03\n",
      "   ---------------- ----------------------- 16.3/38.8 MB 10.4 MB/s eta 0:00:03\n",
      "   ----------------- ---------------------- 16.7/38.8 MB 10.1 MB/s eta 0:00:03\n",
      "   ----------------- ---------------------- 16.9/38.8 MB 9.8 MB/s eta 0:00:03\n",
      "   ----------------- ---------------------- 17.2/38.8 MB 9.4 MB/s eta 0:00:03\n",
      "   ------------------ --------------------- 17.5/38.8 MB 9.0 MB/s eta 0:00:03\n",
      "   ------------------ --------------------- 18.1/38.8 MB 8.7 MB/s eta 0:00:03\n",
      "   ------------------- -------------------- 18.6/38.8 MB 8.6 MB/s eta 0:00:03\n",
      "   ------------------- -------------------- 18.9/38.8 MB 8.4 MB/s eta 0:00:03\n",
      "   ------------------- -------------------- 19.3/38.8 MB 8.2 MB/s eta 0:00:03\n",
      "   -------------------- ------------------- 19.6/38.8 MB 8.0 MB/s eta 0:00:03\n",
      "   -------------------- ------------------- 20.0/38.8 MB 7.9 MB/s eta 0:00:03\n",
      "   -------------------- ------------------- 20.3/38.8 MB 7.9 MB/s eta 0:00:03\n",
      "   --------------------- ------------------ 20.5/38.8 MB 7.8 MB/s eta 0:00:03\n",
      "   --------------------- ------------------ 20.8/38.8 MB 7.9 MB/s eta 0:00:03\n",
      "   --------------------- ------------------ 21.1/38.8 MB 7.8 MB/s eta 0:00:03\n",
      "   ---------------------- ----------------- 21.4/38.8 MB 7.7 MB/s eta 0:00:03\n",
      "   ---------------------- ----------------- 21.7/38.8 MB 7.7 MB/s eta 0:00:03\n",
      "   ---------------------- ----------------- 22.1/38.8 MB 7.7 MB/s eta 0:00:03\n",
      "   ---------------------- ----------------- 22.3/38.8 MB 7.6 MB/s eta 0:00:03\n",
      "   ----------------------- ---------------- 22.6/38.8 MB 7.4 MB/s eta 0:00:03\n",
      "   ----------------------- ---------------- 23.0/38.8 MB 7.4 MB/s eta 0:00:03\n",
      "   ------------------------ --------------- 23.5/38.8 MB 7.4 MB/s eta 0:00:03\n",
      "   ------------------------ --------------- 23.7/38.8 MB 7.4 MB/s eta 0:00:03\n",
      "   ------------------------ --------------- 24.0/38.8 MB 7.5 MB/s eta 0:00:02\n",
      "   ------------------------- -------------- 24.3/38.8 MB 7.4 MB/s eta 0:00:02\n",
      "   ------------------------- -------------- 24.7/38.8 MB 7.4 MB/s eta 0:00:02\n",
      "   ------------------------- -------------- 25.0/38.8 MB 7.4 MB/s eta 0:00:02\n",
      "   -------------------------- ------------- 25.3/38.8 MB 7.2 MB/s eta 0:00:02\n",
      "   -------------------------- ------------- 25.6/38.8 MB 7.1 MB/s eta 0:00:02\n",
      "   -------------------------- ------------- 25.9/38.8 MB 7.0 MB/s eta 0:00:02\n",
      "   --------------------------- ------------ 26.3/38.8 MB 7.0 MB/s eta 0:00:02\n",
      "   --------------------------- ------------ 26.6/38.8 MB 7.1 MB/s eta 0:00:02\n",
      "   --------------------------- ------------ 26.9/38.8 MB 7.0 MB/s eta 0:00:02\n",
      "   --------------------------- ------------ 27.2/38.8 MB 7.1 MB/s eta 0:00:02\n",
      "   ---------------------------- ----------- 27.4/38.8 MB 7.0 MB/s eta 0:00:02\n",
      "   ---------------------------- ----------- 27.7/38.8 MB 7.0 MB/s eta 0:00:02\n",
      "   ---------------------------- ----------- 28.1/38.8 MB 7.0 MB/s eta 0:00:02\n",
      "   ----------------------------- ---------- 28.3/38.8 MB 6.9 MB/s eta 0:00:02\n",
      "   ----------------------------- ---------- 28.7/38.8 MB 6.7 MB/s eta 0:00:02\n",
      "   ----------------------------- ---------- 29.0/38.8 MB 6.7 MB/s eta 0:00:02\n",
      "   ------------------------------ --------- 29.2/38.8 MB 6.6 MB/s eta 0:00:02\n",
      "   ------------------------------ --------- 29.5/38.8 MB 6.6 MB/s eta 0:00:02\n",
      "   ------------------------------ --------- 29.6/38.8 MB 6.5 MB/s eta 0:00:02\n",
      "   ------------------------------ --------- 29.7/38.8 MB 6.4 MB/s eta 0:00:02\n",
      "   ------------------------------ --------- 30.0/38.8 MB 6.4 MB/s eta 0:00:02\n",
      "   ------------------------------- -------- 30.1/38.8 MB 6.2 MB/s eta 0:00:02\n",
      "   ------------------------------- -------- 30.4/38.8 MB 6.2 MB/s eta 0:00:02\n",
      "   ------------------------------- -------- 30.6/38.8 MB 6.1 MB/s eta 0:00:02\n",
      "   ------------------------------- -------- 30.9/38.8 MB 6.1 MB/s eta 0:00:02\n",
      "   -------------------------------- ------- 31.1/38.8 MB 6.1 MB/s eta 0:00:02\n",
      "   -------------------------------- ------- 31.5/38.8 MB 6.1 MB/s eta 0:00:02\n",
      "   -------------------------------- ------- 31.7/38.8 MB 6.1 MB/s eta 0:00:02\n",
      "   --------------------------------- ------ 32.1/38.8 MB 6.1 MB/s eta 0:00:02\n",
      "   --------------------------------- ------ 32.4/38.8 MB 6.2 MB/s eta 0:00:02\n",
      "   --------------------------------- ------ 32.8/38.8 MB 6.2 MB/s eta 0:00:01\n",
      "   ---------------------------------- ----- 33.2/38.8 MB 6.2 MB/s eta 0:00:01\n",
      "   ---------------------------------- ----- 33.8/38.8 MB 6.3 MB/s eta 0:00:01\n",
      "   ----------------------------------- ---- 34.3/38.8 MB 6.5 MB/s eta 0:00:01\n",
      "   ----------------------------------- ---- 34.6/38.8 MB 6.5 MB/s eta 0:00:01\n",
      "   ----------------------------------- ---- 34.7/38.8 MB 6.3 MB/s eta 0:00:01\n",
      "   ----------------------------------- ---- 34.9/38.8 MB 6.2 MB/s eta 0:00:01\n",
      "   ------------------------------------ --- 35.3/38.8 MB 6.3 MB/s eta 0:00:01\n",
      "   ------------------------------------ --- 35.8/38.8 MB 6.4 MB/s eta 0:00:01\n",
      "   ------------------------------------- -- 36.1/38.8 MB 6.4 MB/s eta 0:00:01\n",
      "   ------------------------------------- -- 36.5/38.8 MB 6.4 MB/s eta 0:00:01\n",
      "   ------------------------------------- -- 36.9/38.8 MB 6.5 MB/s eta 0:00:01\n",
      "   -------------------------------------- - 37.3/38.8 MB 6.5 MB/s eta 0:00:01\n",
      "   -------------------------------------- - 37.9/38.8 MB 6.8 MB/s eta 0:00:01\n",
      "   ---------------------------------------  38.3/38.8 MB 6.8 MB/s eta 0:00:01\n",
      "   ---------------------------------------  38.5/38.8 MB 6.7 MB/s eta 0:00:01\n",
      "   ---------------------------------------  38.6/38.8 MB 6.6 MB/s eta 0:00:01\n",
      "   ---------------------------------------  38.8/38.8 MB 6.5 MB/s eta 0:00:01\n",
      "   ---------------------------------------  38.8/38.8 MB 6.5 MB/s eta 0:00:01\n",
      "   ---------------------------------------  38.8/38.8 MB 6.5 MB/s eta 0:00:01\n",
      "   ---------------------------------------  38.8/38.8 MB 6.5 MB/s eta 0:00:01\n",
      "   ---------------------------------------  38.8/38.8 MB 6.5 MB/s eta 0:00:01\n",
      "   ---------------------------------------  38.8/38.8 MB 6.5 MB/s eta 0:00:01\n",
      "   ---------------------------------------  38.8/38.8 MB 6.5 MB/s eta 0:00:01\n",
      "   ---------------------------------------- 38.8/38.8 MB 5.5 MB/s eta 0:00:00\n",
      "Installing collected packages: opencv-python\n",
      "Successfully installed opencv-python-4.10.0.84\n"
     ]
    }
   ],
   "source": [
    "# OpenCV를 사용하여 영상을 재생하고, 키보드 입력으로 제어할 수 있습니다. OpenCV는 설치가 필요합니다.\n",
    "# !pip install opencv-python   # 중복설치 방지 "
   ]
  },
  {
   "cell_type": "code",
   "execution_count": 2,
   "metadata": {},
   "outputs": [
    {
     "ename": "KeyboardInterrupt",
     "evalue": "",
     "output_type": "error",
     "traceback": [
      "\u001b[1;31m---------------------------------------------------------------------------\u001b[0m",
      "\u001b[1;31mKeyboardInterrupt\u001b[0m                         Traceback (most recent call last)",
      "Cell \u001b[1;32mIn[2], line 17\u001b[0m\n\u001b[0;32m     14\u001b[0m cv2\u001b[38;5;241m.\u001b[39mimshow(\u001b[38;5;124m'\u001b[39m\u001b[38;5;124menglish_level\u001b[39m\u001b[38;5;124m'\u001b[39m, frame)\n\u001b[0;32m     16\u001b[0m \u001b[38;5;66;03m# 'q' 키를 누르면 영상 종료\u001b[39;00m\n\u001b[1;32m---> 17\u001b[0m \u001b[38;5;28;01mif\u001b[39;00m cv2\u001b[38;5;241m.\u001b[39mwaitKey(\u001b[38;5;241m25\u001b[39m) \u001b[38;5;241m&\u001b[39m \u001b[38;5;241m0xFF\u001b[39m \u001b[38;5;241m==\u001b[39m \u001b[38;5;28mord\u001b[39m(\u001b[38;5;124m'\u001b[39m\u001b[38;5;124mq\u001b[39m\u001b[38;5;124m'\u001b[39m):\n\u001b[0;32m     18\u001b[0m     \u001b[38;5;28;01mbreak\u001b[39;00m\n\u001b[0;32m     19\u001b[0m \u001b[38;5;28;01melif\u001b[39;00m cv2\u001b[38;5;241m.\u001b[39mwaitKey(\u001b[38;5;241m25\u001b[39m) \u001b[38;5;241m&\u001b[39m \u001b[38;5;241m0xFF\u001b[39m  \u001b[38;5;241m==\u001b[39m \u001b[38;5;28mord\u001b[39m(\u001b[38;5;124m'\u001b[39m\u001b[38;5;124mp\u001b[39m\u001b[38;5;124m'\u001b[39m):  \u001b[38;5;66;03m# 일시정지\u001b[39;00m\n",
      "\u001b[1;31mKeyboardInterrupt\u001b[0m: "
     ]
    },
    {
     "ename": "",
     "evalue": "",
     "output_type": "error",
     "traceback": [
      "\u001b[1;31mThe Kernel crashed while executing code in the current cell or a previous cell. \n",
      "\u001b[1;31mPlease review the code in the cell(s) to identify a possible cause of the failure. \n",
      "\u001b[1;31mClick <a href='https://aka.ms/vscodeJupyterKernelCrash'>here</a> for more info. \n",
      "\u001b[1;31mView Jupyter <a href='command:jupyter.viewOutput'>log</a> for further details."
     ]
    }
   ],
   "source": [
    "import cv2\n",
    "\n",
    "# 영상 파일 경로\n",
    "video_path = './Data/english_level.mp4'\n",
    "\n",
    "# 영상 캡처 객체 생성\n",
    "cap = cv2.VideoCapture(video_path)\n",
    "\n",
    "while cap.isOpened():\n",
    "    ret, frame = cap.read()\n",
    "    if not ret:\n",
    "        break\n",
    "\n",
    "    cv2.imshow('english_level', frame)\n",
    "\n",
    "    # 'q' 키를 누르면 영상 종료\n",
    "    if cv2.waitKey(25) & 0xFF == ord('q'):\n",
    "        break\n",
    "    elif cv2.waitKey(25) & 0xFF  == ord('p'):  # 일시정지\n",
    "        paused = not paused\n",
    "\n",
    "# 자원 해제\n",
    "cap.release()\n",
    "cv2.destroyAllWindows()\n"
   ]
  },
  {
   "cell_type": "markdown",
   "metadata": {},
   "source": [
    "## 다운로드 없이 브라우저에서 Youtube 영상제어\n",
    "- selenium 을 사용하여 브라우저를 프러그래밍 방식으로 제어 (재생, 일시정지,탐색)\n",
    "- DAY05 에서 이미 selenium 을 이미 설치했으므로 설치는 Skip\n"
   ]
  },
  {
   "cell_type": "markdown",
   "metadata": {},
   "source": []
  },
  {
   "cell_type": "code",
   "execution_count": 6,
   "metadata": {},
   "outputs": [],
   "source": [
    "# Selenium을 사용한 YouTube 영상제어 \n",
    "from selenium import webdriver\n",
    "from selenium.webdriver.common.keys import Keys\n",
    "from selenium.webdriver.common.by import By\n",
    "from selenium.webdriver.chrome.service import Service\n",
    "from webdriver_manager.chrome import ChromeDriverManager\n",
    "import time \n",
    "\n",
    "# Chrome 드라이버 설정 \n",
    "service = Service(ChromeDriverManager().install())\n",
    "driver = webdriver.Chrome(service=service)\n",
    "\n",
    "# YouTube  영상 Url \n",
    "url = 'https://www.youtube.com/watch?v=65HNfJ5fZ1c'\n",
    "\n",
    "# YouTube 페이지 열기 \n",
    "driver.get(url)\n",
    "\n",
    "# 영상 로드 및 재생 대기 ( 필요에 따라 조정 )\n",
    "time.sleep(5)\n",
    "\n",
    "# 재생 버튼 찾기 및 클릭\n",
    "play_button = driver.find_element(By.CSS_SELECTOR, 'button.ytp-play-button')\n",
    "play_button.click()\n",
    "\n",
    "# 영상 제어: 10초 재생 후 일시 정지\n",
    "time.sleep(10)\n",
    "play_button.click()  # 일시 정지\n",
    "\n",
    "# 5초 앞으로 이동\n",
    "driver.find_element(By.TAG_NAME, 'body').send_keys(Keys.ARROW_RIGHT)\n",
    "\n",
    "# 5초 후 영상 종료\n",
    "time.sleep(5)\n",
    "driver.quit()\n"
   ]
  },
  {
   "cell_type": "markdown",
   "metadata": {},
   "source": [
    "#### 파인썬 프로그램을 데스크톱 애플리케이션으로 만들려면 GUI 라이브러리를 사용해야 합니다.\n",
    "#### PyQt5를 사용하여 간단한 GUI를 만드는 방법이 있다.\n",
    "#### PyQt5는 파이썬에서 데스크톱 애플리케이션을 개발할 수 있는 강력한 도구이다. "
   ]
  },
  {
   "cell_type": "code",
   "execution_count": 7,
   "metadata": {},
   "outputs": [
    {
     "name": "stdout",
     "output_type": "stream",
     "text": [
      "Requirement already satisfied: PyQt5 in c:\\users\\kdt\\anaconda3\\lib\\site-packages (5.15.10)\n",
      "Requirement already satisfied: PyQt5-sip<13,>=12.13 in c:\\users\\kdt\\anaconda3\\lib\\site-packages (from PyQt5) (12.13.0)\n",
      "Requirement already satisfied: PyQtWebEngine in c:\\users\\kdt\\anaconda3\\lib\\site-packages (5.15.6)\n",
      "Requirement already satisfied: PyQt5-sip<13,>=12.11 in c:\\users\\kdt\\anaconda3\\lib\\site-packages (from PyQtWebEngine) (12.13.0)\n",
      "Requirement already satisfied: PyQt5>=5.15.4 in c:\\users\\kdt\\anaconda3\\lib\\site-packages (from PyQtWebEngine) (5.15.10)\n"
     ]
    }
   ],
   "source": [
    "# PyQt5 설치하기 \n",
    "# !pip install PyQt5\n",
    "# !pip install PyQtWebEngine"
   ]
  },
  {
   "cell_type": "code",
   "execution_count": 1,
   "metadata": {},
   "outputs": [
    {
     "ename": "SystemExit",
     "evalue": "0",
     "output_type": "error",
     "traceback": [
      "An exception has occurred, use %tb to see the full traceback.\n",
      "\u001b[1;31mSystemExit\u001b[0m\u001b[1;31m:\u001b[0m 0\n"
     ]
    },
    {
     "name": "stderr",
     "output_type": "stream",
     "text": [
      "c:\\Users\\KDT\\anaconda3\\Lib\\site-packages\\IPython\\core\\interactiveshell.py:3561: UserWarning: To exit: use 'exit', 'quit', or Ctrl-D.\n",
      "  warn(\"To exit: use 'exit', 'quit', or Ctrl-D.\", stacklevel=1)\n"
     ]
    }
   ],
   "source": [
    "import sys\n",
    "import time\n",
    "from PyQt5.QtWidgets import QApplication, QWidget, QVBoxLayout, QPushButton, QLineEdit\n",
    "from PyQt5.QtWebEngineWidgets import QWebEngineView\n",
    "from PyQt5.QtCore import QUrl\n",
    "from selenium import webdriver\n",
    "from selenium.webdriver.common.keys import Keys\n",
    "from selenium.webdriver.common.by import By\n",
    "from selenium.webdriver.chrome.service import Service\n",
    "from webdriver_manager.chrome import ChromeDriverManager\n",
    "\n",
    "class YouTubeController(QWidget):\n",
    "    def __init__(self):\n",
    "        super().__init__()\n",
    "\n",
    "        self.initUI()\n",
    "        self.driver = None\n",
    "\n",
    "    def initUI(self):\n",
    "        self.setWindowTitle('YouTube Controller')\n",
    "        self.setGeometry(100, 100, 800, 600)\n",
    "\n",
    "        layout = QVBoxLayout()\n",
    "\n",
    "        self.url_input = QLineEdit(self)\n",
    "        self.url_input.setPlaceholderText('Enter YouTube URL')\n",
    "        layout.addWidget(self.url_input)\n",
    "\n",
    "        self.load_button = QPushButton('Load Video', self)\n",
    "        self.load_button.clicked.connect(self.load_video)\n",
    "        layout.addWidget(self.load_button)\n",
    "\n",
    "        self.play_button = QPushButton('Play', self)\n",
    "        self.play_button.clicked.connect(self.play_video)\n",
    "        layout.addWidget(self.play_button)\n",
    "\n",
    "        self.pause_button = QPushButton('Pause', self)\n",
    "        self.pause_button.clicked.connect(self.pause_video)\n",
    "        layout.addWidget(self.pause_button)\n",
    "\n",
    "        self.forward_button = QPushButton('Forward 5s', self)\n",
    "        self.forward_button.clicked.connect(self.forward_video)\n",
    "        layout.addWidget(self.forward_button)\n",
    "\n",
    "        self.backward_button = QPushButton('Backward 5s', self)\n",
    "        self.backward_button.clicked.connect(self.backward_video)\n",
    "        layout.addWidget(self.backward_button)\n",
    "\n",
    "        self.web_view = QWebEngineView(self)\n",
    "        layout.addWidget(self.web_view)\n",
    "\n",
    "        self.setLayout(layout)\n",
    "\n",
    "    def load_video(self):\n",
    "        url = self.url_input.text()\n",
    "        self.web_view.setUrl(QUrl(url))\n",
    "        self.web_view.show()\n",
    "\n",
    "        # Selenium driver 설정\n",
    "        if self.driver is None:\n",
    "            service = Service(ChromeDriverManager().install())\n",
    "            self.driver = webdriver.Chrome(service=service)\n",
    "        self.driver.get(url)\n",
    "        time.sleep(5)  # 영상 로드 대기\n",
    "\n",
    "    def play_video(self):\n",
    "        play_button = self.driver.find_element(By.CSS_SELECTOR, 'button.ytp-play-button')\n",
    "        play_button.click()\n",
    "\n",
    "    def pause_video(self):\n",
    "        pause_button = self.driver.find_element(By.CSS_SELECTOR, 'button.ytp-play-button')\n",
    "        pause_button.click()\n",
    "\n",
    "    def forward_video(self):\n",
    "        self.driver.find_element(By.TAG_NAME, 'body').send_keys(Keys.ARROW_RIGHT)\n",
    "\n",
    "    def backward_video(self):\n",
    "        self.driver.find_element(By.TAG_NAME, 'body').send_keys(Keys.ARROW_LEFT)\n",
    "\n",
    "    def closeEvent(self, event):\n",
    "        if self.driver:\n",
    "            self.driver.quit()\n",
    "\n",
    "if __name__ == '__main__':\n",
    "    app = QApplication(sys.argv)\n",
    "    ex = YouTubeController()\n",
    "    ex.show()\n",
    "    sys.exit(app.exec_())"
   ]
  },
  {
   "cell_type": "markdown",
   "metadata": {},
   "source": [
    "## 파이선 GUI 애플리케이션을 실제 실행 가능한 독립형 애플리케이션으로 만드는 과정\n",
    "- PyInstaller 와 같은 패키징 도구를 사용한다.\n",
    "- pyinstaller --onefile --windowed youtube_controller.py 사용시 Error\n",
    "-- The 'pathlib' package is an obsolete backport of a standard library package and is incompatible with PyInstaller. Please remove this package (located in C:\\Users\\KDT\\anaconda3\\Lib\\site-packages) using\n",
    "    conda remove\n",
    "then try again.  \n",
    "\n",
    "-- conda remove pathlib 후에 다시 pyinstall 이 dist 폴더에 .exe  파일 생성"
   ]
  },
  {
   "cell_type": "code",
   "execution_count": 2,
   "metadata": {},
   "outputs": [
    {
     "name": "stdout",
     "output_type": "stream",
     "text": [
      "Collecting pyinstaller\n",
      "  Downloading pyinstaller-6.8.0-py3-none-win_amd64.whl.metadata (8.3 kB)\n",
      "Requirement already satisfied: setuptools>=42.0.0 in c:\\users\\kdt\\anaconda3\\lib\\site-packages (from pyinstaller) (68.2.2)\n",
      "Collecting altgraph (from pyinstaller)\n",
      "  Downloading altgraph-0.17.4-py2.py3-none-any.whl.metadata (7.3 kB)\n",
      "Collecting pyinstaller-hooks-contrib>=2024.6 (from pyinstaller)\n",
      "  Downloading pyinstaller_hooks_contrib-2024.7-py2.py3-none-any.whl.metadata (16 kB)\n",
      "Requirement already satisfied: packaging>=22.0 in c:\\users\\kdt\\anaconda3\\lib\\site-packages (from pyinstaller) (23.1)\n",
      "Collecting pefile>=2022.5.30 (from pyinstaller)\n",
      "  Downloading pefile-2023.2.7-py3-none-any.whl.metadata (1.4 kB)\n",
      "Collecting pywin32-ctypes>=0.2.1 (from pyinstaller)\n",
      "  Downloading pywin32_ctypes-0.2.2-py3-none-any.whl.metadata (3.8 kB)\n",
      "Downloading pyinstaller-6.8.0-py3-none-win_amd64.whl (1.3 MB)\n",
      "   ---------------------------------------- 0.0/1.3 MB ? eta -:--:--\n",
      "   ---------------- ----------------------- 0.5/1.3 MB 11.4 MB/s eta 0:00:01\n",
      "   ---------------------------------------  1.3/1.3 MB 20.6 MB/s eta 0:00:01\n",
      "   ---------------------------------------- 1.3/1.3 MB 10.3 MB/s eta 0:00:00\n",
      "Downloading pefile-2023.2.7-py3-none-any.whl (71 kB)\n",
      "   ---------------------------------------- 0.0/71.8 kB ? eta -:--:--\n",
      "   ---------------------------------------  71.7/71.8 kB ? eta -:--:--\n",
      "   ---------------------------------------- 71.8/71.8 kB 1.3 MB/s eta 0:00:00\n",
      "Downloading pyinstaller_hooks_contrib-2024.7-py2.py3-none-any.whl (341 kB)\n",
      "   ---------------------------------------- 0.0/341.3 kB ? eta -:--:--\n",
      "   ---------------------------------------  337.9/341.3 kB ? eta -:--:--\n",
      "   ---------------------------------------- 341.3/341.3 kB 7.0 MB/s eta 0:00:00\n",
      "Downloading pywin32_ctypes-0.2.2-py3-none-any.whl (30 kB)\n",
      "Downloading altgraph-0.17.4-py2.py3-none-any.whl (21 kB)\n",
      "Installing collected packages: altgraph, pywin32-ctypes, pyinstaller-hooks-contrib, pefile, pyinstaller\n",
      "  Attempting uninstall: pywin32-ctypes\n",
      "    Found existing installation: pywin32-ctypes 0.2.0\n",
      "    Uninstalling pywin32-ctypes-0.2.0:\n",
      "      Successfully uninstalled pywin32-ctypes-0.2.0\n",
      "Successfully installed altgraph-0.17.4 pefile-2023.2.7 pyinstaller-6.8.0 pyinstaller-hooks-contrib-2024.7 pywin32-ctypes-0.2.2\n"
     ]
    }
   ],
   "source": [
    "# 파이썬 코드를 실행 가능한 파일로 변환하기 위해 PyInstaller 설치 \n",
    "# !pip install pyinstaller"
   ]
  },
  {
   "cell_type": "code",
   "execution_count": null,
   "metadata": {},
   "outputs": [],
   "source": []
  }
 ],
 "metadata": {
  "kernelspec": {
   "display_name": "base",
   "language": "python",
   "name": "python3"
  },
  "language_info": {
   "codemirror_mode": {
    "name": "ipython",
    "version": 3
   },
   "file_extension": ".py",
   "mimetype": "text/x-python",
   "name": "python",
   "nbconvert_exporter": "python",
   "pygments_lexer": "ipython3",
   "version": "3.11.7"
  }
 },
 "nbformat": 4,
 "nbformat_minor": 2
}
