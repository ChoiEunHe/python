{
 "cells": [
  {
   "cell_type": "markdown",
   "metadata": {},
   "source": [
    "# Today"
   ]
  },
  {
   "cell_type": "code",
   "execution_count": 2,
   "metadata": {},
   "outputs": [],
   "source": [
    "import datetime  # 날짜\n",
    "from urllib import parse # %글자 변환 ( 한글 %로 구성되어 있는 것들 )\n",
    "\n",
    "import urllib.request as req\n",
    "from bs4 import BeautifulSoup  # 앱에 넣어서 개발 할 때 편함 "
   ]
  },
  {
   "cell_type": "code",
   "execution_count": 3,
   "metadata": {},
   "outputs": [
    {
     "name": "stdout",
     "output_type": "stream",
     "text": [
      "오늘의 요청 사항 입니다.\n",
      "현재 일자 및 시간은  2024년 06월 20일 19시 30분 입니다\n"
     ]
    }
   ],
   "source": [
    "# 날짜 출력 \n",
    "\n",
    "now = datetime.datetime.now()\n",
    "# print(now)\n",
    "nowDate = now.strftime('%Y년 %m월 %d일 %H시 %M분 입니다')  # 소문자 y 일경우 2자리가 나옴 \n",
    "# print(nowDate)\n",
    "print(\"오늘의 요청 사항 입니다.\")\n",
    "print(f\"현재 일자 및 시간은  {nowDate}\")"
   ]
  },
  {
   "cell_type": "markdown",
   "metadata": {},
   "source": [
    "## 날씨"
   ]
  },
  {
   "cell_type": "code",
   "execution_count": 4,
   "metadata": {},
   "outputs": [],
   "source": [
    "url = \"https://search.naver.com/search.naver?where=nexearch&sm=top_hty&fbm=0&ie=utf8&query=\"\n",
    "city = '서울'\n",
    "weatherCharacter = '날씨'\n",
    "url = url + parse.quote(city) + \"+\" +  parse.quote(weatherCharacter)\n",
    "# print(url)\n",
    "\n",
    "# html Data 가져오기 \n",
    "res = req.urlopen(url)\n",
    "\n",
    "# BeautifulSoup 으로 분석하기 \n",
    "soup = BeautifulSoup(res, 'html.parser')\n",
    "\n",
    "# 날씨 \n",
    "temps = soup.select_one(\"#main_pack > section.sc_new.cs_weather_new._cs_weather > div > div:nth-child(1) > div.content_wrap > div.open > div:nth-child(1) > div > div.weather_info > div > div._today > div.weather_graphic > div.temperature_text > strong\")\n",
    "# print(temps.text[5:10])\n",
    "\n",
    "cast = soup.select_one(\"#main_pack > section.sc_new.cs_weather_new._cs_weather > div > div:nth-child(1) > div.content_wrap > div.open > div:nth-child(1) > div > div.weather_info > div > div._today > div.temperature_info > p\")\n",
    "# print (cast.get_text())\n"
   ]
  },
  {
   "cell_type": "code",
   "execution_count": 5,
   "metadata": {},
   "outputs": [
    {
     "name": "stdout",
     "output_type": "stream",
     "text": [
      "현재 서울의 날씨는 32.5°  이고 어제보다 0.2° 높아요  구름많음 \n",
      "현재 대구의 날씨는 26.5°  이고 어제보다 5.6° 낮아요  흐림 \n",
      "현재 부산의 날씨는 23.1°  이고 어제보다 1.1° 낮아요  흐림 \n",
      "현재 제주의 날씨는 22.4°  이고 어제보다 0.4° 높아요  흐림 \n"
     ]
    }
   ],
   "source": [
    "cities = ['서울', '대구', '부산', '제주']\n",
    "\n",
    "for city in cities:\n",
    "    url = \"https://search.naver.com/search.naver?where=nexearch&sm=top_hty&fbm=0&ie=utf8&query=\"\n",
    "    url = url +  parse.quote(city) + \"+\" +  parse.quote(weatherCharacter)\n",
    "    res = req.urlopen(url)\n",
    "    soup = BeautifulSoup(res, 'html.parser')\n",
    "\n",
    "    temp = soup.select_one(\"#main_pack > section.sc_new.cs_weather_new._cs_weather > div > div:nth-child(1) > div.content_wrap > div.open > div:nth-child(1) > div > div.weather_info > div > div._today > div.weather_graphic > div.temperature_text > strong\") \n",
    "    cast = soup.select_one(\"#main_pack > section.sc_new.cs_weather_new._cs_weather > div > div:nth-child(1) > div.content_wrap > div.open > div:nth-child(1) > div > div.weather_info > div > div._today > div.temperature_info > p\")\n",
    "\n",
    "    print(f\"현재 {city}의 날씨는 {temp.get_text()[5:10]}  이고 {cast.get_text()}\")"
   ]
  },
  {
   "cell_type": "code",
   "execution_count": 12,
   "metadata": {},
   "outputs": [
    {
     "name": "stdout",
     "output_type": "stream",
     "text": [
      "오늘의 요청 사항 입니다.\n",
      "현재 일자 및 시간은  2024년 06월 20일 19시 51분 입니다\n",
      "----------날씨정보-------------\n",
      "현재 서울의 날씨는 31.8°  이고 어제보다 0.5° 낮아요  구름많음 \n",
      "현재 대구의 날씨는 26.1°  이고 어제보다 6° 낮아요  흐림 \n",
      "현재 부산의 날씨는 22.6°  이고 어제보다 1.6° 낮아요  비 \n",
      "현재 제주의 날씨는 21.5°  이고 어제보다 0.5° 낮아요  흐림 \n",
      "현재 전주의 날씨는 25.9°  이고 어제보다 0.7° 낮아요  흐림 \n",
      "현재 강릉의 날씨는 28.2°  이고 어제보다 2.1° 낮아요  흐림 \n"
     ]
    }
   ],
   "source": [
    "import datetime  # 날짜\n",
    "from urllib import parse # %글자 변환 ( 한글 %로 구성되어 있는 것들 )\n",
    "\n",
    "import urllib.request as req\n",
    "from bs4 import BeautifulSoup  # 앱에 넣어서 개발 할 때 편함 \n",
    "\n",
    "# 날짜 출력 \n",
    "now = datetime.datetime.now()\n",
    "nowDate = now.strftime('%Y년 %m월 %d일 %H시 %M분 입니다')  # 소문자 y 일경우 2자리가 나옴 \n",
    "\n",
    "print(\"오늘의 요청 사항 입니다.\")\n",
    "print(f\"현재 일자 및 시간은  {nowDate}\")\n",
    "\n",
    "cities = ['서울', '대구', '부산', '제주', '전주', '강릉']\n",
    "weatherCharacter = '날씨'\n",
    "print(\"----------날씨정보-------------\")\n",
    "\n",
    "# 날씨 정보 \n",
    "for city in cities:\n",
    "    url = \"https://search.naver.com/search.naver?where=nexearch&sm=top_hty&fbm=0&ie=utf8&query=\"\n",
    "    url = url +  parse.quote(city) + \"+\" +  parse.quote(weatherCharacter)\n",
    "    res = req.urlopen(url)\n",
    "    soup = BeautifulSoup(res, 'html.parser')\n",
    "\n",
    "    temp = soup.select_one(\"#main_pack > section.sc_new.cs_weather_new._cs_weather > div > div:nth-child(1) > div.content_wrap > div.open > div:nth-child(1) > div > div.weather_info > div > div._today > div.weather_graphic > div.temperature_text > strong\") \n",
    "    cast = soup.select_one(\"#main_pack > section.sc_new.cs_weather_new._cs_weather > div > div:nth-child(1) > div.content_wrap > div.open > div:nth-child(1) > div > div.weather_info > div > div._today > div.temperature_info > p\")\n",
    "\n",
    "    print(f\"현재 {city}의 날씨는 {temp.get_text()[5:10]}  이고 {cast.get_text()}\")"
   ]
  },
  {
   "cell_type": "code",
   "execution_count": null,
   "metadata": {},
   "outputs": [],
   "source": []
  }
 ],
 "metadata": {
  "kernelspec": {
   "display_name": "base",
   "language": "python",
   "name": "python3"
  },
  "language_info": {
   "codemirror_mode": {
    "name": "ipython",
    "version": 3
   },
   "file_extension": ".py",
   "mimetype": "text/x-python",
   "name": "python",
   "nbconvert_exporter": "python",
   "pygments_lexer": "ipython3",
   "version": "3.11.7"
  }
 },
 "nbformat": 4,
 "nbformat_minor": 2
}
