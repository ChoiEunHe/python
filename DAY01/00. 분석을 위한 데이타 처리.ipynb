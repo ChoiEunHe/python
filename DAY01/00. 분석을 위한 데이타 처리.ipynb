{
 "cells": [
  {
   "cell_type": "markdown",
   "metadata": {},
   "source": []
  },
  {
   "cell_type": "markdown",
   "metadata": {},
   "source": []
  },
  {
   "cell_type": "markdown",
   "metadata": {},
   "source": []
  },
  {
   "cell_type": "markdown",
   "metadata": {},
   "source": []
  },
  {
   "cell_type": "markdown",
   "metadata": {},
   "source": [
    "#  인터넷의 빅데이터 \n",
    "- 빅데이터는 이름 그대로 대규모의 데이터 집합을 의미\n",
    "- 데이터를 수집하는 것만으로는 어떤 의미도 없음\n",
    "- 수집한 데이터를 활용해야 가치가 생성 \n",
    "\n",
    "## 분석의 단계 \n",
    "수집 -> 처리 -> 정제 -> 분석 -> 머신러닝 or 딥러닝   \n",
    "\n",
    "## 분석 \n",
    "- 빅데이터를 분석한다는 것은 수많은 데이터에서 규칙성을 찾는 것을 말함.\n",
    "\n",
    "## 수집(Scrapy :필요해서 찾는 것, Crawling :주기적으로 찾는 것)\n",
    "- Web Scraping 이라고도 하며, Software 기술로 각종 웹사이트들에서 원하는 정보를 추출.\n",
    "- 선행학습 : Python 기초, HTML, CSS, Javascript 구조 및 Tag \n",
    "- 합법여부 : site명 뒤에 robots.txt  ( naver.com/robots.txt 가 없으면 데이터를 모두 빼갈 수 있음 )\n",
    "\n"
   ]
  },
  {
   "cell_type": "code",
   "execution_count": null,
   "metadata": {},
   "outputs": [],
   "source": []
  }
 ],
 "metadata": {
  "kernelspec": {
   "display_name": "base",
   "language": "python",
   "name": "python3"
  },
  "language_info": {
   "codemirror_mode": {
    "name": "ipython",
    "version": 3
   },
   "file_extension": ".py",
   "mimetype": "text/x-python",
   "name": "python",
   "nbconvert_exporter": "python",
   "pygments_lexer": "ipython3",
   "version": "3.11.7"
  }
 },
 "nbformat": 4,
 "nbformat_minor": 2
}
